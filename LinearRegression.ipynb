{
  "cells": [
    {
      "cell_type": "markdown",
      "metadata": {
        "id": "VAoDSRhELrjf"
      },
      "source": [
        "# Multiple Linear Regression:\n",
        "\n",
        "\n"
      ]
    },
    {
      "cell_type": "markdown",
      "metadata": {
        "id": "5iikwKANL9_k"
      },
      "source": [
        "Necessary Imports"
      ]
    },
    {
      "cell_type": "code",
      "execution_count": 1,
      "metadata": {
        "id": "eZofLAOfLiUk"
      },
      "outputs": [],
      "source": [
        "# Necessary imports:\n",
        "import numpy as np\n",
        "import pandas as pd\n",
        "import matplotlib.pyplot as plt\n",
        "import seaborn as sns\n",
        "plt.rcParams['figure.figsize'] = (10.0, 10.0)\n",
        "import warnings\n",
        "warnings.simplefilter(\"ignore\")"
      ]
    },
    {
      "cell_type": "markdown",
      "metadata": {
        "id": "n5VWIDhrMONX"
      },
      "source": [
        "# 1. Data Understanding, Cleaning and Transformation:"
      ]
    },
    {
      "cell_type": "markdown",
      "metadata": {
        "id": "XDfgOWmBNXjE"
      },
      "source": [
        "The given dataset gives contains the list of video games along with the sales of the game in various regions as well as the overall sales all over the globe. The data set has a total of 16598 rows and a total of 10 columns."
      ]
    },
    {
      "cell_type": "markdown",
      "metadata": {
        "id": "grX-OLl_MbaL"
      },
      "source": [
        "In the given dataset,  `Global_Sales` is the dependent variable (y) while `NA_Sales, EU_Sales, JP_Sales, Other_Sales` are the independent variables (x).\n",
        "\n",
        "`Global_Sales` is the depedent variable since the amount in each row of the column is derived by adding up all the data of row from the independent columns i.e. `NA_Sales, EU_Sales, JP_Sales, Other_Sales`.\n",
        "\n",
        "\n"
      ]
    },
    {
      "cell_type": "markdown",
      "metadata": {
        "id": "fZMgYJyINj-k"
      },
      "source": [
        "Reading the dataset using `read_csv()` function from pandas."
      ]
    },
    {
      "cell_type": "code",
      "execution_count": 2,
      "metadata": {
        "id": "Cb6H-anHLlWJ"
      },
      "outputs": [],
      "source": [
        "df = pd.read_csv('GameSales.csv')"
      ]
    },
    {
      "cell_type": "markdown",
      "metadata": {
        "id": "A3q-6OaoNwsu"
      },
      "source": [
        "Printing the top 5 and bottom 5 rows of the dataset. Using `head()` function of pandas to print the top section, while using `tail()` function of pandas to print the bottom section."
      ]
    },
    {
      "cell_type": "code",
      "execution_count": 3,
      "metadata": {
        "colab": {
          "base_uri": "https://localhost:8080/",
          "height": 206
        },
        "id": "hLFmDgoIeyfz",
        "outputId": "f39bd164-559a-4abf-dd85-45d050b5f47d"
      },
      "outputs": [
        {
          "data": {
            "text/html": [
              "<div>\n",
              "<style scoped>\n",
              "    .dataframe tbody tr th:only-of-type {\n",
              "        vertical-align: middle;\n",
              "    }\n",
              "\n",
              "    .dataframe tbody tr th {\n",
              "        vertical-align: top;\n",
              "    }\n",
              "\n",
              "    .dataframe thead th {\n",
              "        text-align: right;\n",
              "    }\n",
              "</style>\n",
              "<table border=\"1\" class=\"dataframe\">\n",
              "  <thead>\n",
              "    <tr style=\"text-align: right;\">\n",
              "      <th></th>\n",
              "      <th>Rank</th>\n",
              "      <th>Name</th>\n",
              "      <th>Platform</th>\n",
              "      <th>Genre</th>\n",
              "      <th>Publisher</th>\n",
              "      <th>NA_Sales</th>\n",
              "      <th>EU_Sales</th>\n",
              "      <th>JP_Sales</th>\n",
              "      <th>Other_Sales</th>\n",
              "      <th>Global_Sales</th>\n",
              "    </tr>\n",
              "  </thead>\n",
              "  <tbody>\n",
              "    <tr>\n",
              "      <th>0</th>\n",
              "      <td>1</td>\n",
              "      <td>Wii Sports</td>\n",
              "      <td>Wii</td>\n",
              "      <td>Sports</td>\n",
              "      <td>Nintendo</td>\n",
              "      <td>41.49</td>\n",
              "      <td>29.02</td>\n",
              "      <td>3.77</td>\n",
              "      <td>8.46</td>\n",
              "      <td>82.74</td>\n",
              "    </tr>\n",
              "    <tr>\n",
              "      <th>1</th>\n",
              "      <td>2</td>\n",
              "      <td>Super Mario Bros.</td>\n",
              "      <td>NES</td>\n",
              "      <td>Platform</td>\n",
              "      <td>Nintendo</td>\n",
              "      <td>29.08</td>\n",
              "      <td>3.58</td>\n",
              "      <td>6.81</td>\n",
              "      <td>0.77</td>\n",
              "      <td>40.24</td>\n",
              "    </tr>\n",
              "    <tr>\n",
              "      <th>2</th>\n",
              "      <td>3</td>\n",
              "      <td>Mario Kart Wii</td>\n",
              "      <td>Wii</td>\n",
              "      <td>Racing</td>\n",
              "      <td>Nintendo</td>\n",
              "      <td>15.85</td>\n",
              "      <td>12.88</td>\n",
              "      <td>3.79</td>\n",
              "      <td>3.31</td>\n",
              "      <td>35.82</td>\n",
              "    </tr>\n",
              "    <tr>\n",
              "      <th>3</th>\n",
              "      <td>4</td>\n",
              "      <td>Wii Sports Resort</td>\n",
              "      <td>Wii</td>\n",
              "      <td>Sports</td>\n",
              "      <td>Nintendo</td>\n",
              "      <td>15.75</td>\n",
              "      <td>11.01</td>\n",
              "      <td>3.28</td>\n",
              "      <td>2.96</td>\n",
              "      <td>33.00</td>\n",
              "    </tr>\n",
              "    <tr>\n",
              "      <th>4</th>\n",
              "      <td>5</td>\n",
              "      <td>Pokemon Red/Pokemon Blue</td>\n",
              "      <td>GB</td>\n",
              "      <td>Role-Playing</td>\n",
              "      <td>Nintendo</td>\n",
              "      <td>11.27</td>\n",
              "      <td>8.89</td>\n",
              "      <td>10.22</td>\n",
              "      <td>1.00</td>\n",
              "      <td>31.37</td>\n",
              "    </tr>\n",
              "  </tbody>\n",
              "</table>\n",
              "</div>"
            ],
            "text/plain": [
              "   Rank                      Name Platform         Genre Publisher  NA_Sales  \\\n",
              "0     1                Wii Sports      Wii        Sports  Nintendo     41.49   \n",
              "1     2         Super Mario Bros.      NES      Platform  Nintendo     29.08   \n",
              "2     3            Mario Kart Wii      Wii        Racing  Nintendo     15.85   \n",
              "3     4         Wii Sports Resort      Wii        Sports  Nintendo     15.75   \n",
              "4     5  Pokemon Red/Pokemon Blue       GB  Role-Playing  Nintendo     11.27   \n",
              "\n",
              "   EU_Sales  JP_Sales  Other_Sales  Global_Sales  \n",
              "0     29.02      3.77         8.46         82.74  \n",
              "1      3.58      6.81         0.77         40.24  \n",
              "2     12.88      3.79         3.31         35.82  \n",
              "3     11.01      3.28         2.96         33.00  \n",
              "4      8.89     10.22         1.00         31.37  "
            ]
          },
          "execution_count": 3,
          "metadata": {},
          "output_type": "execute_result"
        }
      ],
      "source": [
        "df.head()"
      ]
    },
    {
      "cell_type": "code",
      "execution_count": 4,
      "metadata": {
        "colab": {
          "base_uri": "https://localhost:8080/",
          "height": 206
        },
        "id": "cQYhd_-dfI5z",
        "outputId": "7cfcffeb-b5e5-4f2f-9748-eb6c3037368f"
      },
      "outputs": [
        {
          "data": {
            "text/html": [
              "<div>\n",
              "<style scoped>\n",
              "    .dataframe tbody tr th:only-of-type {\n",
              "        vertical-align: middle;\n",
              "    }\n",
              "\n",
              "    .dataframe tbody tr th {\n",
              "        vertical-align: top;\n",
              "    }\n",
              "\n",
              "    .dataframe thead th {\n",
              "        text-align: right;\n",
              "    }\n",
              "</style>\n",
              "<table border=\"1\" class=\"dataframe\">\n",
              "  <thead>\n",
              "    <tr style=\"text-align: right;\">\n",
              "      <th></th>\n",
              "      <th>Rank</th>\n",
              "      <th>Name</th>\n",
              "      <th>Platform</th>\n",
              "      <th>Genre</th>\n",
              "      <th>Publisher</th>\n",
              "      <th>NA_Sales</th>\n",
              "      <th>EU_Sales</th>\n",
              "      <th>JP_Sales</th>\n",
              "      <th>Other_Sales</th>\n",
              "      <th>Global_Sales</th>\n",
              "    </tr>\n",
              "  </thead>\n",
              "  <tbody>\n",
              "    <tr>\n",
              "      <th>16593</th>\n",
              "      <td>16596</td>\n",
              "      <td>Woody Woodpecker in Crazy Castle 5</td>\n",
              "      <td>GBA</td>\n",
              "      <td>Platform</td>\n",
              "      <td>Kemco</td>\n",
              "      <td>0.01</td>\n",
              "      <td>0.00</td>\n",
              "      <td>0.0</td>\n",
              "      <td>0.0</td>\n",
              "      <td>0.01</td>\n",
              "    </tr>\n",
              "    <tr>\n",
              "      <th>16594</th>\n",
              "      <td>16597</td>\n",
              "      <td>Men in Black II: Alien Escape</td>\n",
              "      <td>GC</td>\n",
              "      <td>Shooter</td>\n",
              "      <td>Infogrames</td>\n",
              "      <td>0.01</td>\n",
              "      <td>0.00</td>\n",
              "      <td>0.0</td>\n",
              "      <td>0.0</td>\n",
              "      <td>0.01</td>\n",
              "    </tr>\n",
              "    <tr>\n",
              "      <th>16595</th>\n",
              "      <td>16598</td>\n",
              "      <td>SCORE International Baja 1000: The Official Game</td>\n",
              "      <td>PS2</td>\n",
              "      <td>Racing</td>\n",
              "      <td>Activision</td>\n",
              "      <td>0.00</td>\n",
              "      <td>0.00</td>\n",
              "      <td>0.0</td>\n",
              "      <td>0.0</td>\n",
              "      <td>0.01</td>\n",
              "    </tr>\n",
              "    <tr>\n",
              "      <th>16596</th>\n",
              "      <td>16599</td>\n",
              "      <td>Know How 2</td>\n",
              "      <td>DS</td>\n",
              "      <td>Puzzle</td>\n",
              "      <td>7G//AMES</td>\n",
              "      <td>0.00</td>\n",
              "      <td>0.01</td>\n",
              "      <td>0.0</td>\n",
              "      <td>0.0</td>\n",
              "      <td>0.01</td>\n",
              "    </tr>\n",
              "    <tr>\n",
              "      <th>16597</th>\n",
              "      <td>16600</td>\n",
              "      <td>Spirits &amp; Spells</td>\n",
              "      <td>GBA</td>\n",
              "      <td>Platform</td>\n",
              "      <td>Wanadoo</td>\n",
              "      <td>0.01</td>\n",
              "      <td>0.00</td>\n",
              "      <td>0.0</td>\n",
              "      <td>0.0</td>\n",
              "      <td>0.01</td>\n",
              "    </tr>\n",
              "  </tbody>\n",
              "</table>\n",
              "</div>"
            ],
            "text/plain": [
              "        Rank                                              Name Platform  \\\n",
              "16593  16596                Woody Woodpecker in Crazy Castle 5      GBA   \n",
              "16594  16597                     Men in Black II: Alien Escape       GC   \n",
              "16595  16598  SCORE International Baja 1000: The Official Game      PS2   \n",
              "16596  16599                                        Know How 2       DS   \n",
              "16597  16600                                  Spirits & Spells      GBA   \n",
              "\n",
              "          Genre   Publisher  NA_Sales  EU_Sales  JP_Sales  Other_Sales  \\\n",
              "16593  Platform       Kemco      0.01      0.00       0.0          0.0   \n",
              "16594   Shooter  Infogrames      0.01      0.00       0.0          0.0   \n",
              "16595    Racing  Activision      0.00      0.00       0.0          0.0   \n",
              "16596    Puzzle    7G//AMES      0.00      0.01       0.0          0.0   \n",
              "16597  Platform     Wanadoo      0.01      0.00       0.0          0.0   \n",
              "\n",
              "       Global_Sales  \n",
              "16593          0.01  \n",
              "16594          0.01  \n",
              "16595          0.01  \n",
              "16596          0.01  \n",
              "16597          0.01  "
            ]
          },
          "execution_count": 4,
          "metadata": {},
          "output_type": "execute_result"
        }
      ],
      "source": [
        "df.tail()"
      ]
    },
    {
      "cell_type": "markdown",
      "metadata": {
        "id": "4wGn8unMOBeO"
      },
      "source": [
        "Printing the information of the dataset. Using `info()` function of pandas to do so."
      ]
    },
    {
      "cell_type": "code",
      "execution_count": 5,
      "metadata": {
        "colab": {
          "base_uri": "https://localhost:8080/"
        },
        "id": "mLhK7ujLNY5V",
        "outputId": "0c84b919-52a1-42b5-f138-d6e5f3aaa51b"
      },
      "outputs": [
        {
          "name": "stdout",
          "output_type": "stream",
          "text": [
            "<class 'pandas.core.frame.DataFrame'>\n",
            "RangeIndex: 16598 entries, 0 to 16597\n",
            "Data columns (total 10 columns):\n",
            " #   Column        Non-Null Count  Dtype  \n",
            "---  ------        --------------  -----  \n",
            " 0   Rank          16598 non-null  int64  \n",
            " 1   Name          16598 non-null  object \n",
            " 2   Platform      16598 non-null  object \n",
            " 3   Genre         16598 non-null  object \n",
            " 4   Publisher     16540 non-null  object \n",
            " 5   NA_Sales      16598 non-null  float64\n",
            " 6   EU_Sales      16598 non-null  float64\n",
            " 7   JP_Sales      16598 non-null  float64\n",
            " 8   Other_Sales   16598 non-null  float64\n",
            " 9   Global_Sales  16598 non-null  float64\n",
            "dtypes: float64(5), int64(1), object(4)\n",
            "memory usage: 1.3+ MB\n"
          ]
        }
      ],
      "source": [
        "df.info()"
      ]
    },
    {
      "cell_type": "markdown",
      "metadata": {
        "id": "-8B5e_rxQ-0d"
      },
      "source": [
        "Using the `df.shape` to calculate the number of rows and columns in the dataset"
      ]
    },
    {
      "cell_type": "code",
      "execution_count": 6,
      "metadata": {
        "colab": {
          "base_uri": "https://localhost:8080/"
        },
        "id": "2qY444hBuP_T",
        "outputId": "f7280ade-1b45-4722-8d41-e0ae005767b0"
      },
      "outputs": [
        {
          "data": {
            "text/plain": [
              "(16598, 10)"
            ]
          },
          "execution_count": 6,
          "metadata": {},
          "output_type": "execute_result"
        }
      ],
      "source": [
        "df.shape"
      ]
    },
    {
      "cell_type": "markdown",
      "metadata": {
        "id": "xwFYEcfzR-j3"
      },
      "source": [
        "Checking if any null value exists in the dataset using `df.isnull()`"
      ]
    },
    {
      "cell_type": "code",
      "execution_count": 7,
      "metadata": {
        "colab": {
          "base_uri": "https://localhost:8080/",
          "height": 423
        },
        "id": "vw1VMcl-uhct",
        "outputId": "77dd9652-b62e-4c21-d7ce-62418bcaf1e3"
      },
      "outputs": [
        {
          "data": {
            "text/html": [
              "<div>\n",
              "<style scoped>\n",
              "    .dataframe tbody tr th:only-of-type {\n",
              "        vertical-align: middle;\n",
              "    }\n",
              "\n",
              "    .dataframe tbody tr th {\n",
              "        vertical-align: top;\n",
              "    }\n",
              "\n",
              "    .dataframe thead th {\n",
              "        text-align: right;\n",
              "    }\n",
              "</style>\n",
              "<table border=\"1\" class=\"dataframe\">\n",
              "  <thead>\n",
              "    <tr style=\"text-align: right;\">\n",
              "      <th></th>\n",
              "      <th>Rank</th>\n",
              "      <th>Name</th>\n",
              "      <th>Platform</th>\n",
              "      <th>Genre</th>\n",
              "      <th>Publisher</th>\n",
              "      <th>NA_Sales</th>\n",
              "      <th>EU_Sales</th>\n",
              "      <th>JP_Sales</th>\n",
              "      <th>Other_Sales</th>\n",
              "      <th>Global_Sales</th>\n",
              "    </tr>\n",
              "  </thead>\n",
              "  <tbody>\n",
              "    <tr>\n",
              "      <th>0</th>\n",
              "      <td>False</td>\n",
              "      <td>False</td>\n",
              "      <td>False</td>\n",
              "      <td>False</td>\n",
              "      <td>False</td>\n",
              "      <td>False</td>\n",
              "      <td>False</td>\n",
              "      <td>False</td>\n",
              "      <td>False</td>\n",
              "      <td>False</td>\n",
              "    </tr>\n",
              "    <tr>\n",
              "      <th>1</th>\n",
              "      <td>False</td>\n",
              "      <td>False</td>\n",
              "      <td>False</td>\n",
              "      <td>False</td>\n",
              "      <td>False</td>\n",
              "      <td>False</td>\n",
              "      <td>False</td>\n",
              "      <td>False</td>\n",
              "      <td>False</td>\n",
              "      <td>False</td>\n",
              "    </tr>\n",
              "    <tr>\n",
              "      <th>2</th>\n",
              "      <td>False</td>\n",
              "      <td>False</td>\n",
              "      <td>False</td>\n",
              "      <td>False</td>\n",
              "      <td>False</td>\n",
              "      <td>False</td>\n",
              "      <td>False</td>\n",
              "      <td>False</td>\n",
              "      <td>False</td>\n",
              "      <td>False</td>\n",
              "    </tr>\n",
              "    <tr>\n",
              "      <th>3</th>\n",
              "      <td>False</td>\n",
              "      <td>False</td>\n",
              "      <td>False</td>\n",
              "      <td>False</td>\n",
              "      <td>False</td>\n",
              "      <td>False</td>\n",
              "      <td>False</td>\n",
              "      <td>False</td>\n",
              "      <td>False</td>\n",
              "      <td>False</td>\n",
              "    </tr>\n",
              "    <tr>\n",
              "      <th>4</th>\n",
              "      <td>False</td>\n",
              "      <td>False</td>\n",
              "      <td>False</td>\n",
              "      <td>False</td>\n",
              "      <td>False</td>\n",
              "      <td>False</td>\n",
              "      <td>False</td>\n",
              "      <td>False</td>\n",
              "      <td>False</td>\n",
              "      <td>False</td>\n",
              "    </tr>\n",
              "    <tr>\n",
              "      <th>...</th>\n",
              "      <td>...</td>\n",
              "      <td>...</td>\n",
              "      <td>...</td>\n",
              "      <td>...</td>\n",
              "      <td>...</td>\n",
              "      <td>...</td>\n",
              "      <td>...</td>\n",
              "      <td>...</td>\n",
              "      <td>...</td>\n",
              "      <td>...</td>\n",
              "    </tr>\n",
              "    <tr>\n",
              "      <th>16593</th>\n",
              "      <td>False</td>\n",
              "      <td>False</td>\n",
              "      <td>False</td>\n",
              "      <td>False</td>\n",
              "      <td>False</td>\n",
              "      <td>False</td>\n",
              "      <td>False</td>\n",
              "      <td>False</td>\n",
              "      <td>False</td>\n",
              "      <td>False</td>\n",
              "    </tr>\n",
              "    <tr>\n",
              "      <th>16594</th>\n",
              "      <td>False</td>\n",
              "      <td>False</td>\n",
              "      <td>False</td>\n",
              "      <td>False</td>\n",
              "      <td>False</td>\n",
              "      <td>False</td>\n",
              "      <td>False</td>\n",
              "      <td>False</td>\n",
              "      <td>False</td>\n",
              "      <td>False</td>\n",
              "    </tr>\n",
              "    <tr>\n",
              "      <th>16595</th>\n",
              "      <td>False</td>\n",
              "      <td>False</td>\n",
              "      <td>False</td>\n",
              "      <td>False</td>\n",
              "      <td>False</td>\n",
              "      <td>False</td>\n",
              "      <td>False</td>\n",
              "      <td>False</td>\n",
              "      <td>False</td>\n",
              "      <td>False</td>\n",
              "    </tr>\n",
              "    <tr>\n",
              "      <th>16596</th>\n",
              "      <td>False</td>\n",
              "      <td>False</td>\n",
              "      <td>False</td>\n",
              "      <td>False</td>\n",
              "      <td>False</td>\n",
              "      <td>False</td>\n",
              "      <td>False</td>\n",
              "      <td>False</td>\n",
              "      <td>False</td>\n",
              "      <td>False</td>\n",
              "    </tr>\n",
              "    <tr>\n",
              "      <th>16597</th>\n",
              "      <td>False</td>\n",
              "      <td>False</td>\n",
              "      <td>False</td>\n",
              "      <td>False</td>\n",
              "      <td>False</td>\n",
              "      <td>False</td>\n",
              "      <td>False</td>\n",
              "      <td>False</td>\n",
              "      <td>False</td>\n",
              "      <td>False</td>\n",
              "    </tr>\n",
              "  </tbody>\n",
              "</table>\n",
              "<p>16598 rows × 10 columns</p>\n",
              "</div>"
            ],
            "text/plain": [
              "        Rank   Name  Platform  Genre  Publisher  NA_Sales  EU_Sales  JP_Sales  \\\n",
              "0      False  False     False  False      False     False     False     False   \n",
              "1      False  False     False  False      False     False     False     False   \n",
              "2      False  False     False  False      False     False     False     False   \n",
              "3      False  False     False  False      False     False     False     False   \n",
              "4      False  False     False  False      False     False     False     False   \n",
              "...      ...    ...       ...    ...        ...       ...       ...       ...   \n",
              "16593  False  False     False  False      False     False     False     False   \n",
              "16594  False  False     False  False      False     False     False     False   \n",
              "16595  False  False     False  False      False     False     False     False   \n",
              "16596  False  False     False  False      False     False     False     False   \n",
              "16597  False  False     False  False      False     False     False     False   \n",
              "\n",
              "       Other_Sales  Global_Sales  \n",
              "0            False         False  \n",
              "1            False         False  \n",
              "2            False         False  \n",
              "3            False         False  \n",
              "4            False         False  \n",
              "...            ...           ...  \n",
              "16593        False         False  \n",
              "16594        False         False  \n",
              "16595        False         False  \n",
              "16596        False         False  \n",
              "16597        False         False  \n",
              "\n",
              "[16598 rows x 10 columns]"
            ]
          },
          "execution_count": 7,
          "metadata": {},
          "output_type": "execute_result"
        }
      ],
      "source": [
        "df.isnull()"
      ]
    },
    {
      "cell_type": "code",
      "execution_count": 8,
      "metadata": {
        "colab": {
          "base_uri": "https://localhost:8080/"
        },
        "id": "F0BZip86ujw-",
        "outputId": "0f91053c-32f7-4b2d-ca73-006577edb809"
      },
      "outputs": [
        {
          "data": {
            "text/plain": [
              "Rank             0\n",
              "Name             0\n",
              "Platform         0\n",
              "Genre            0\n",
              "Publisher       58\n",
              "NA_Sales         0\n",
              "EU_Sales         0\n",
              "JP_Sales         0\n",
              "Other_Sales      0\n",
              "Global_Sales     0\n",
              "dtype: int64"
            ]
          },
          "execution_count": 8,
          "metadata": {},
          "output_type": "execute_result"
        }
      ],
      "source": [
        "df.isnull().sum()"
      ]
    },
    {
      "cell_type": "markdown",
      "metadata": {
        "id": "iTNAV8EJOPnq"
      },
      "source": [
        "Data Cleaning by dropping the columns that are not required. Using `drop()` function of pandas to do so."
      ]
    },
    {
      "cell_type": "code",
      "execution_count": 9,
      "metadata": {
        "colab": {
          "base_uri": "https://localhost:8080/",
          "height": 206
        },
        "id": "OVbY0Nqtfqyp",
        "outputId": "06b30fac-fbc0-474d-9cb7-bc4dd01aa54f"
      },
      "outputs": [
        {
          "data": {
            "text/html": [
              "<div>\n",
              "<style scoped>\n",
              "    .dataframe tbody tr th:only-of-type {\n",
              "        vertical-align: middle;\n",
              "    }\n",
              "\n",
              "    .dataframe tbody tr th {\n",
              "        vertical-align: top;\n",
              "    }\n",
              "\n",
              "    .dataframe thead th {\n",
              "        text-align: right;\n",
              "    }\n",
              "</style>\n",
              "<table border=\"1\" class=\"dataframe\">\n",
              "  <thead>\n",
              "    <tr style=\"text-align: right;\">\n",
              "      <th></th>\n",
              "      <th>NA_Sales</th>\n",
              "      <th>EU_Sales</th>\n",
              "      <th>JP_Sales</th>\n",
              "      <th>Other_Sales</th>\n",
              "      <th>Global_Sales</th>\n",
              "    </tr>\n",
              "  </thead>\n",
              "  <tbody>\n",
              "    <tr>\n",
              "      <th>0</th>\n",
              "      <td>41.49</td>\n",
              "      <td>29.02</td>\n",
              "      <td>3.77</td>\n",
              "      <td>8.46</td>\n",
              "      <td>82.74</td>\n",
              "    </tr>\n",
              "    <tr>\n",
              "      <th>1</th>\n",
              "      <td>29.08</td>\n",
              "      <td>3.58</td>\n",
              "      <td>6.81</td>\n",
              "      <td>0.77</td>\n",
              "      <td>40.24</td>\n",
              "    </tr>\n",
              "    <tr>\n",
              "      <th>2</th>\n",
              "      <td>15.85</td>\n",
              "      <td>12.88</td>\n",
              "      <td>3.79</td>\n",
              "      <td>3.31</td>\n",
              "      <td>35.82</td>\n",
              "    </tr>\n",
              "    <tr>\n",
              "      <th>3</th>\n",
              "      <td>15.75</td>\n",
              "      <td>11.01</td>\n",
              "      <td>3.28</td>\n",
              "      <td>2.96</td>\n",
              "      <td>33.00</td>\n",
              "    </tr>\n",
              "    <tr>\n",
              "      <th>4</th>\n",
              "      <td>11.27</td>\n",
              "      <td>8.89</td>\n",
              "      <td>10.22</td>\n",
              "      <td>1.00</td>\n",
              "      <td>31.37</td>\n",
              "    </tr>\n",
              "  </tbody>\n",
              "</table>\n",
              "</div>"
            ],
            "text/plain": [
              "   NA_Sales  EU_Sales  JP_Sales  Other_Sales  Global_Sales\n",
              "0     41.49     29.02      3.77         8.46         82.74\n",
              "1     29.08      3.58      6.81         0.77         40.24\n",
              "2     15.85     12.88      3.79         3.31         35.82\n",
              "3     15.75     11.01      3.28         2.96         33.00\n",
              "4     11.27      8.89     10.22         1.00         31.37"
            ]
          },
          "execution_count": 9,
          "metadata": {},
          "output_type": "execute_result"
        }
      ],
      "source": [
        "forDropping = [\"Rank\",\"Name\",\"Platform\",\"Genre\",\"Publisher\"]\n",
        "for items in forDropping:\n",
        "  df.drop([items],axis=1,inplace=True)\n",
        "df.head()"
      ]
    },
    {
      "cell_type": "markdown",
      "metadata": {
        "id": "QEWbtxq_OdfA"
      },
      "source": [
        "Representing the remaining columns in the form of a heatmap. Using seaborn library's heatmap function to do so."
      ]
    },
    {
      "cell_type": "code",
      "execution_count": 10,
      "metadata": {
        "colab": {
          "base_uri": "https://localhost:8080/",
          "height": 596
        },
        "id": "F_jTtRw9ivCu",
        "outputId": "17c118ca-62bf-4857-a2a9-f0b7b3817b46"
      },
      "outputs": [
        {
          "data": {
            "image/png": "[encoded data removed]",
            "text/plain": [
              "<Figure size 1000x1000 with 2 Axes>"
            ]
          },
          "metadata": {},
          "output_type": "display_data"
        }
      ],
      "source": [
        "corrmat = df.corr()\n",
        "top_corr_features = corrmat.index\n",
        "plt.figure(figsize=(10,10))\n",
        "#Plotting heat map\n",
        "g=sns.heatmap(df[top_corr_features].corr(),annot=True,linewidths=.5)\n",
        "b, t = plt.ylim() # Finding the values for bottom and top\n",
        "b += 0.5\n",
        "t -= 0.5\n",
        "plt.ylim(b, t)\n",
        "plt.show()"
      ]
    },
    {
      "cell_type": "markdown",
      "metadata": {
        "id": "WD6v5PmASJgH"
      },
      "source": [
        "Converting each column to array using `.to_numpy()`"
      ]
    },
    {
      "cell_type": "code",
      "execution_count": 11,
      "metadata": {
        "id": "VdGztIaQNfvc"
      },
      "outputs": [],
      "source": [
        "NA = df[\"NA_Sales\"].to_numpy()"
      ]
    },
    {
      "cell_type": "code",
      "execution_count": 12,
      "metadata": {
        "id": "l9d6zd6iQtRN"
      },
      "outputs": [],
      "source": [
        "EU = df[\"EU_Sales\"].to_numpy()"
      ]
    },
    {
      "cell_type": "code",
      "execution_count": 13,
      "metadata": {
        "id": "7lODf2wBQtzn"
      },
      "outputs": [],
      "source": [
        "JP = df[\"JP_Sales\"].to_numpy()"
      ]
    },
    {
      "cell_type": "code",
      "execution_count": 14,
      "metadata": {
        "id": "aHg4UhhYQvLV"
      },
      "outputs": [],
      "source": [
        "other = df[\"Other_Sales\"].to_numpy()"
      ]
    },
    {
      "cell_type": "code",
      "execution_count": 15,
      "metadata": {
        "id": "jmtc_IyARqvK"
      },
      "outputs": [],
      "source": [
        "globalSales = df[\"Global_Sales\"].to_numpy()"
      ]
    },
    {
      "cell_type": "markdown",
      "metadata": {
        "id": "WSAYZV_KOr4f"
      },
      "source": [
        "Mean of the dependent variable."
      ]
    },
    {
      "cell_type": "code",
      "execution_count": 16,
      "metadata": {
        "colab": {
          "base_uri": "https://localhost:8080/"
        },
        "id": "MG8u98rNQsv4",
        "outputId": "922d3701-2a79-4290-e3e9-20e6aaf46b3c"
      },
      "outputs": [
        {
          "name": "stdout",
          "output_type": "stream",
          "text": [
            "Dependent mean = 0.5374406555006628\n"
          ]
        }
      ],
      "source": [
        "mean_y =df[\"Global_Sales\"].mean()\n",
        "print(\"Dependent mean =\",mean_y)"
      ]
    },
    {
      "cell_type": "code",
      "execution_count": 17,
      "metadata": {
        "id": "mObDW7CsMQTw"
      },
      "outputs": [],
      "source": [
        "independentColumns = [\"NA_Sales\",\"EU_Sales\",\"JP_Sales\",\"Other_Sales\"]"
      ]
    },
    {
      "cell_type": "markdown",
      "metadata": {
        "id": "aZ2JD_sjOvlv"
      },
      "source": [
        "Mean of the independent variables."
      ]
    },
    {
      "cell_type": "code",
      "execution_count": 18,
      "metadata": {
        "colab": {
          "base_uri": "https://localhost:8080/"
        },
        "id": "TNN6jJqIMWZg",
        "outputId": "593014b2-4e7f-4ea5-bfc8-868541f6020a"
      },
      "outputs": [
        {
          "name": "stdout",
          "output_type": "stream",
          "text": [
            "Mean of independent:\n",
            "Mean of NA_Sales : 0.26466742981082064\n",
            "Mean of EU_Sales : 0.14665200626581515\n",
            "Mean of JP_Sales : 0.077781660441017\n",
            "Mean of Other_Sales : 0.0480630196409206\n"
          ]
        }
      ],
      "source": [
        "print(\"Mean of independent:\")\n",
        "for columns in independentColumns:\n",
        "  print(\"Mean of\",columns,\":\",df[columns].mean())"
      ]
    },
    {
      "cell_type": "markdown",
      "metadata": {
        "id": "Xp0hMSrBOzuo"
      },
      "source": [
        "Checking to confirm everything so far is right."
      ]
    },
    {
      "cell_type": "code",
      "execution_count": 19,
      "metadata": {
        "colab": {
          "base_uri": "https://localhost:8080/"
        },
        "id": "WO0eUTcsR2sU",
        "outputId": "b4da1680-0f7b-4d1d-b2d3-352e51f43c28"
      },
      "outputs": [
        {
          "name": "stdout",
          "output_type": "stream",
          "text": [
            "Proceed Further\n"
          ]
        }
      ],
      "source": [
        "# Sanity Check\n",
        "if NA.shape == EU.shape == JP.shape == other.shape == globalSales.shape:\n",
        "  print(\"Proceed Further\")\n",
        "else:\n",
        "  print(\"Array Conversion Error: Try Again\")"
      ]
    },
    {
      "cell_type": "markdown",
      "metadata": {
        "id": "3N2-qJM8Lvbj"
      },
      "source": [
        "# 2. Data Analysis and Visualization"
      ]
    },
    {
      "cell_type": "markdown",
      "metadata": {
        "id": "1ZRSQe2lL7QX"
      },
      "source": [
        "3D scatter-plot"
      ]
    },
    {
      "cell_type": "code",
      "execution_count": 20,
      "metadata": {
        "colab": {
          "base_uri": "https://localhost:8080/",
          "height": 751
        },
        "id": "gYSZS40dTcx5",
        "outputId": "75193f73-45fc-48bb-b56e-3fb1b9142b7e"
      },
      "outputs": [
        {
          "data": {
            "image/png": "[encoded data removed]",
            "text/plain": [
              "<Figure size 1000x1000 with 1 Axes>"
            ]
          },
          "metadata": {},
          "output_type": "display_data"
        }
      ],
      "source": [
        "sns.boxplot(data=[NA, EU, JP, other], palette=\"Set3\")\n",
        "plt.xticks([0, 1, 2, 3], ['NA', 'EU', 'JP', 'Other'])\n",
        "plt.ylabel(\"Sales\")\n",
        "plt.title(\"Boxplot of Regional Sales\")\n",
        "plt.show()\n"
      ]
    },
    {
      "cell_type": "markdown",
      "metadata": {
        "id": "-2674QbISe7K"
      },
      "source": [
        "\n",
        "The box plot shows that North America (NA) has the highest variability in sales, with several outliers indicating extremely successful products, while other regions like EU, JP, and Other have more consistent but lower sales distributions."
      ]
    },
    {
      "cell_type": "markdown",
      "metadata": {
        "id": "r6u8bEYPTXPS"
      },
      "source": [
        "# 3. Build Primary Model:"
      ]
    },
    {
      "cell_type": "code",
      "execution_count": 21,
      "metadata": {
        "colab": {
          "base_uri": "https://localhost:8080/"
        },
        "id": "x0PDV4v0TcYA",
        "outputId": "f70d7bef-84e4-46b6-8903-69381c848458"
      },
      "outputs": [
        {
          "name": "stdout",
          "output_type": "stream",
          "text": [
            "(16598, 5)\n",
            "(16598,)\n",
            "(5,)\n"
          ]
        }
      ],
      "source": [
        "x0 = np.ones(len(NA))\n",
        "X2 = np.array([x0,NA,EU,JP,other]).T\n",
        "W = np.array([0,0,0,0,0])\n",
        "Y2 = np.array(globalSales)\n",
        "print(X2.shape)\n",
        "print(Y2.shape)\n",
        "print(W.shape)"
      ]
    },
    {
      "cell_type": "markdown",
      "metadata": {
        "id": "FzEYRyAbSoXw"
      },
      "source": [
        "Defining the cost function"
      ]
    },
    {
      "cell_type": "code",
      "execution_count": 22,
      "metadata": {
        "id": "Zc1glIGLXJfx"
      },
      "outputs": [],
      "source": [
        "def cost_function(X, Y, W):\n",
        "    \"\"\" Parameters:\n",
        "    This function finds the Mean Square Error.\n",
        "    Input parameters:\n",
        "      X: Feature Matrix\n",
        "      Y: Target Matrix\n",
        "      W: Weight Matrix\n",
        "    Output Parameters:\n",
        "      J: accumulated mean square error.\n",
        "    \"\"\"\n",
        "    m = len(Y) # len of the data in dataset\n",
        "\n",
        "    J = np.sum((X.dot(W) - Y) ** 2)/(2 * m)\n",
        "    return J"
      ]
    },
    {
      "cell_type": "markdown",
      "metadata": {
        "id": "XK_DqMjlMK8K"
      },
      "source": [
        "Calculating the initial cost"
      ]
    },
    {
      "cell_type": "code",
      "execution_count": 23,
      "metadata": {
        "colab": {
          "base_uri": "https://localhost:8080/"
        },
        "id": "ZuC1Hqq_XoBQ",
        "outputId": "2a810d9f-aa93-42c5-f0fe-e0c806f11f0d"
      },
      "outputs": [
        {
          "data": {
            "text/plain": [
              "np.float64(1.3534043258223882)"
            ]
          },
          "execution_count": 23,
          "metadata": {},
          "output_type": "execute_result"
        }
      ],
      "source": [
        "inital_cost = cost_function(X2, Y2, W)\n",
        "inital_cost"
      ]
    },
    {
      "cell_type": "markdown",
      "metadata": {
        "id": "bBeGKLm0MOKN"
      },
      "source": [
        "Function to calculate the gradient_descent"
      ]
    },
    {
      "cell_type": "code",
      "execution_count": 24,
      "metadata": {
        "id": "nEtQ2prl3m98"
      },
      "outputs": [],
      "source": [
        "def gradient_descent(X, Y, B, alpha, iterations):\n",
        "    cost_history = [0] * iterations\n",
        "    m = len(Y)\n",
        "\n",
        "    for iteration in range(iterations):\n",
        "        # Hypothesis Values\n",
        "        Y_pred = X.dot(B)\n",
        "        # Difference b/w Hypothesis and Actual Y\n",
        "        loss = Y_pred - Y\n",
        "        # Gradient Calculation\n",
        "        dw = (X.T.dot(loss) ) / (m)\n",
        "        # Changing Values of B using Gradient\n",
        "        B = B - alpha * dw\n",
        "        # New Cost Value\n",
        "        cost = cost_function(X, Y, B)\n",
        "        cost_history[iteration] = cost\n",
        "\n",
        "    return B, cost_history"
      ]
    },
    {
      "cell_type": "code",
      "execution_count": 25,
      "metadata": {
        "colab": {
          "base_uri": "https://localhost:8080/"
        },
        "id": "7oEx7Exx3pmf",
        "outputId": "ac42366c-96d5-42f1-d5cd-bff0ad9493a3"
      },
      "outputs": [
        {
          "name": "stdout",
          "output_type": "stream",
          "text": [
            "[0.01410354 1.17432746 0.99539715 0.64560148 0.36941936]\n",
            "0.009297354880582349\n"
          ]
        }
      ],
      "source": [
        "# 100000 Iterations\n",
        "alpha = 0.0001 # Learning Rate.\n",
        "new_weights, cost_history = gradient_descent(X2, Y2, W, alpha, 100000)\n",
        "\n",
        "# New Values of\n",
        "print(new_weights)\n",
        "\n",
        "# Final Cost of our Iterations.\n",
        "print(cost_history[-1])"
      ]
    },
    {
      "cell_type": "markdown",
      "metadata": {
        "id": "HRWU9GzaMWGw"
      },
      "source": [
        "Visualizing the cost function (gradient descent)"
      ]
    },
    {
      "cell_type": "code",
      "execution_count": 26,
      "metadata": {
        "colab": {
          "base_uri": "https://localhost:8080/",
          "height": 592
        },
        "id": "SwNjmBlqYFXM",
        "outputId": "bbd4aae0-0fab-49b0-d559-09287e5518d4"
      },
      "outputs": [
        {
          "data": {
            "image/png": "[encoded data removed]",
            "text/plain": [
              "<Figure size 1000x1000 with 1 Axes>"
            ]
          },
          "metadata": {},
          "output_type": "display_data"
        }
      ],
      "source": [
        "plt.plot(np.array(range(100000)), cost_history)\n",
        "plt.show()"
      ]
    },
    {
      "cell_type": "markdown",
      "metadata": {
        "id": "lUbkdXVJQB6l"
      },
      "source": [
        "# 4. Model Evaluation"
      ]
    },
    {
      "cell_type": "markdown",
      "metadata": {
        "id": "a--Cz6C3QLjP"
      },
      "source": [
        "RMSE and R-Squared"
      ]
    },
    {
      "cell_type": "code",
      "execution_count": 27,
      "metadata": {
        "id": "kWMITkkm4Gqv"
      },
      "outputs": [],
      "source": [
        "# Model Evaluation - RMSE\n",
        "def rmse(Y, Y_pred):\n",
        "  \"\"\"\n",
        "  This Function calculates the Root Mean Squres.\n",
        "  Input Arguments:\n",
        "    Y: Array of actual(Target) Dependent Varaibles.\n",
        "    Y_pred: Array of predeicted Dependent Varaibles.\n",
        "  Output Arguments:\n",
        "    rmse: Root Mean Square.\n",
        "  \"\"\"\n",
        "  rmse = np.sqrt(sum((Y-Y_pred)**2)/len(Y))\n",
        "  return rmse\n",
        "\n",
        "# Model Evaluation - R2\n",
        "\n",
        "def r2(Y, Y_pred):\n",
        "  \"\"\"\n",
        "   This Function calculates the R Squared Error.\n",
        "  Input Arguments:\n",
        "    Y: Array of actual(Target) Dependent Varaibles.\n",
        "    Y_pred: Array of predeicted Dependent Varaibles.\n",
        "  Output Arguments:\n",
        "    rsquared: R Squared Error.\n",
        "    \"\"\"\n",
        "  mean_y = np.mean(Y)\n",
        "  ss_tot = sum((Y - mean_y) ** 2)\n",
        "  ss_res = sum((Y - Y_pred) ** 2)\n",
        "  r2 = 1 - (ss_res / ss_tot)\n",
        "  return r2\n"
      ]
    },
    {
      "cell_type": "code",
      "execution_count": 28,
      "metadata": {
        "colab": {
          "base_uri": "https://localhost:8080/"
        },
        "id": "JLFSeeuR4IQ9",
        "outputId": "fa491fd2-1e9d-4f25-fbf8-2c2c64fab985"
      },
      "outputs": [
        {
          "name": "stdout",
          "output_type": "stream",
          "text": [
            "Root Mean Square Error = 0.13636242063400633\n",
            "R-Squared = 0.9923097726463417\n"
          ]
        }
      ],
      "source": [
        "Y_pred = X2.dot(new_weights)\n",
        "\n",
        "print(\"Root Mean Square Error =\",rmse(Y2, Y_pred))\n",
        "print(\"R-Squared =\",r2(Y2, Y_pred))"
      ]
    },
    {
      "cell_type": "code",
      "execution_count": 29,
      "metadata": {
        "id": "JMDPEbxwh71N"
      },
      "outputs": [],
      "source": [
        "from sklearn.model_selection import train_test_split\n",
        "x_train, x_test, y_train, y_test = train_test_split(X2, Y2, test_size=0.33, random_state=42)"
      ]
    },
    {
      "cell_type": "code",
      "execution_count": 30,
      "metadata": {
        "colab": {
          "base_uri": "https://localhost:8080/"
        },
        "id": "4Xc8WgOBiDZU",
        "outputId": "e1285148-0208-4957-8760-4028bb6a0bbb"
      },
      "outputs": [
        {
          "name": "stdout",
          "output_type": "stream",
          "text": [
            "(11120, 5)\n",
            "(11120,)\n",
            "(5478, 5)\n",
            "(5478,)\n"
          ]
        }
      ],
      "source": [
        "print(x_train.shape)\n",
        "print(y_train.shape)\n",
        "print(x_test.shape)\n",
        "print(y_test.shape)"
      ]
    },
    {
      "cell_type": "code",
      "execution_count": 31,
      "metadata": {
        "id": "eyzhZCvkkpZB"
      },
      "outputs": [],
      "source": [
        "x0 = np.ones(len(x_train))\n",
        "x = np.array([x0,x_train[:,0],x_train[:,1]]).T"
      ]
    },
    {
      "cell_type": "markdown",
      "metadata": {
        "id": "G6q-BoSdUT-3"
      },
      "source": [
        "Train - Test stats"
      ]
    },
    {
      "cell_type": "code",
      "execution_count": 32,
      "metadata": {
        "colab": {
          "base_uri": "https://localhost:8080/"
        },
        "id": "7XgCcSgYJKwn",
        "outputId": "a60bb4df-b468-4916-b986-71810ab672e2"
      },
      "outputs": [
        {
          "name": "stdout",
          "output_type": "stream",
          "text": [
            "66.9960236173033% data is in the training set\n",
            "33.003976382696706% data is in the testing set\n"
          ]
        }
      ],
      "source": [
        "print(\"{}% data is in the training set\".format((len(x_train)/len(df))*100))\n",
        "print(\"{}% data is in the testing set\".format((len(x_test)/len(df))*100))"
      ]
    },
    {
      "cell_type": "markdown",
      "metadata": {
        "id": "jEWffJaFUhXT"
      },
      "source": [
        "RMSE and R-Squared using sklearn"
      ]
    },
    {
      "cell_type": "code",
      "execution_count": 33,
      "metadata": {
        "colab": {
          "base_uri": "https://localhost:8080/"
        },
        "id": "HfvqOJtrR_6b",
        "outputId": "acc97bce-0eae-4b0b-d035-9200e83795a4"
      },
      "outputs": [
        {
          "name": "stdout",
          "output_type": "stream",
          "text": [
            "0.005221412757004432\n",
            "0.999988724759158\n"
          ]
        }
      ],
      "source": [
        "from sklearn.linear_model import LinearRegression\n",
        "from sklearn.metrics import mean_squared_error\n",
        "\n",
        "# X and Y Values\n",
        "X = np.array([NA,EU,JP,other]).T\n",
        "Y = np.array(globalSales)\n",
        "\n",
        "# Model Intialization\n",
        "reg = LinearRegression()\n",
        "# Data Fitting\n",
        "reg = reg.fit(X, Y)\n",
        "# Y Prediction\n",
        "Y_pred = reg.predict(X)\n",
        "\n",
        "# Model Evaluation\n",
        "rmse = np.sqrt(mean_squared_error(Y, Y_pred))\n",
        "r2 = reg.score(X, Y)\n",
        "\n",
        "print(rmse)\n",
        "print(r2)"
      ]
    },
    {
      "cell_type": "markdown",
      "metadata": {
        "id": "yHBgFLgTfme7"
      },
      "source": [
        "# 5. Dimensionality Reduction:"
      ]
    },
    {
      "cell_type": "code",
      "execution_count": 34,
      "metadata": {
        "id": "axhOFw2o9gUZ"
      },
      "outputs": [],
      "source": [
        "#standardization\n",
        "std = (df - df.mean())/df.std()"
      ]
    },
    {
      "cell_type": "code",
      "execution_count": 35,
      "metadata": {
        "colab": {
          "base_uri": "https://localhost:8080/"
        },
        "id": "c2sxG0wQDc1-",
        "outputId": "e6957e31-ae14-404e-fa04-5a67a83d7aaf"
      },
      "outputs": [
        {
          "data": {
            "text/plain": [
              "array([[ 3.29908357e+02, -2.39731310e+01,  8.46812193e+01, ...,\n",
              "        -4.69692926e-01, -4.01762970e-01, -4.48034664e-01],\n",
              "       [-2.39731310e+01,  1.73498495e+02, -1.08101233e+01, ...,\n",
              "        -3.25965506e-01, -3.84572193e-01, -2.75019775e-01],\n",
              "       [ 8.46812193e+01, -1.08101233e+01,  2.58919547e+01, ...,\n",
              "        -1.28108490e-01, -9.87070499e-02, -1.28629212e-01],\n",
              "       ...,\n",
              "       [-4.69692926e-01, -3.25965506e-01, -1.28108490e-01, ...,\n",
              "         1.56990349e-03,  1.57861837e-03,  1.47159036e-03],\n",
              "       [-4.01762970e-01, -3.84572193e-01, -9.87070499e-02, ...,\n",
              "         1.57861837e-03,  1.66564795e-03,  1.46819024e-03],\n",
              "       [-4.48034664e-01, -2.75019775e-01, -1.28629212e-01, ...,\n",
              "         1.47159036e-03,  1.46819024e-03,  1.40326353e-03]],\n",
              "      shape=(16598, 16598))"
            ]
          },
          "execution_count": 35,
          "metadata": {},
          "output_type": "execute_result"
        }
      ],
      "source": [
        "cov_mat = np.cov(std) #Calculating the covariance matrix\n",
        "cov_mat"
      ]
    },
    {
      "cell_type": "markdown",
      "metadata": {
        "id": "x8PIUNlIVX0A"
      },
      "source": [
        "Picking components for PCA"
      ]
    },
    {
      "cell_type": "code",
      "execution_count": 36,
      "metadata": {
        "id": "OBOcxtvo96vO"
      },
      "outputs": [],
      "source": [
        "from sklearn.decomposition import PCA\n",
        "pca = PCA(n_components=3)\n",
        "pca.fit(std)\n",
        "X_pca = pca.transform(std)"
      ]
    },
    {
      "cell_type": "markdown",
      "metadata": {
        "id": "UXBrW1NUVb9U"
      },
      "source": [
        "Calculating explained variance"
      ]
    },
    {
      "cell_type": "code",
      "execution_count": 37,
      "metadata": {
        "colab": {
          "base_uri": "https://localhost:8080/"
        },
        "id": "AHPyVXFIZyWR",
        "outputId": "deaebd71-dc24-4160-8e94-73ee94fedddd"
      },
      "outputs": [
        {
          "data": {
            "text/plain": [
              "array([0.73537719, 0.15113606, 0.0714624 ])"
            ]
          },
          "execution_count": 37,
          "metadata": {},
          "output_type": "execute_result"
        }
      ],
      "source": [
        "explained_variance = pca.explained_variance_ratio_\n",
        "explained_variance"
      ]
    },
    {
      "cell_type": "markdown",
      "metadata": {
        "id": "a2SJ0-yrVhJU"
      },
      "source": [
        "Calculating the cummulative explained variance and plotting the cummulative for all Principle Components."
      ]
    },
    {
      "cell_type": "code",
      "execution_count": 38,
      "metadata": {
        "colab": {
          "base_uri": "https://localhost:8080/",
          "height": 390
        },
        "id": "R9fCf9eq-gkh",
        "outputId": "2fc3f5a8-ee0b-4be4-c722-053a2c08e82a"
      },
      "outputs": [
        {
          "data": {
            "image/png": "[encoded data removed]",
            "text/plain": [
              "<Figure size 800x600 with 1 Axes>"
            ]
          },
          "metadata": {},
          "output_type": "display_data"
        }
      ],
      "source": [
        "cum_exp_var = np.cumsum(np.round(explained_variance, decimals = 4)*100)\n",
        "var_exp = 0\n",
        "\n",
        "# Plotting cummulative explained variance for all PCs\n",
        "\n",
        "fig, ax = plt.subplots(figsize=(8,6))\n",
        "ax.bar(range(3), cum_exp_var,color='#84597e')\n",
        "ax.set_xlabel('Principal Components')\n",
        "ax.set_ylabel('Cumulative Variance Explained');"
      ]
    },
    {
      "cell_type": "code",
      "execution_count": 40,
      "metadata": {
        "colab": {
          "base_uri": "https://localhost:8080/"
        },
        "id": "S0eywsYwft4w",
        "outputId": "9b978fe1-a746-4c71-b098-8fb78106c18b"
      },
      "outputs": [
        {
          "name": "stdout",
          "output_type": "stream",
          "text": [
            "(16598, 3)\n",
            "(3,)\n",
            "(16598,)\n"
          ]
        }
      ],
      "source": [
        "x0_after_pca = np.ones(len(X_pca[:, 0]))\n",
        "X2_after_pca = np.array([x0_after_pca,X_pca[:, 0], X_pca[:, 1]]).T\n",
        "W_after_pca = np.array([0,0,0])\n",
        "Y2_after_pca = np.array(globalSales)\n",
        "print(X2_after_pca.shape)\n",
        "print(W_after_pca.shape)\n",
        "print(Y2_after_pca.shape)"
      ]
    },
    {
      "cell_type": "code",
      "execution_count": 41,
      "metadata": {
        "colab": {
          "base_uri": "https://localhost:8080/"
        },
        "id": "i8YX-O15f7k8",
        "outputId": "97d1b7d2-66ca-4188-a0e7-88f70904e53d"
      },
      "outputs": [
        {
          "data": {
            "text/plain": [
              "np.float64(1.3534043258223882)"
            ]
          },
          "execution_count": 41,
          "metadata": {},
          "output_type": "execute_result"
        }
      ],
      "source": [
        "inital_cost_after_pca = cost_function(X2_after_pca, Y2_after_pca, W_after_pca)\n",
        "inital_cost_after_pca"
      ]
    },
    {
      "cell_type": "code",
      "execution_count": 42,
      "metadata": {
        "colab": {
          "base_uri": "https://localhost:8080/"
        },
        "id": "W3HvobHrlKCq",
        "outputId": "43936944-8bb1-4a46-a53d-89718757f62b"
      },
      "outputs": [
        {
          "name": "stdout",
          "output_type": "stream",
          "text": [
            "[0.53741627 0.80579823 0.04455158]\n",
            "0.01458347033581815\n"
          ]
        }
      ],
      "source": [
        "# 10000 Iterations\n",
        "alpha_after_pca = 0.0001 # Learning Rate.\n",
        "new_weights_after_pca, cost_history_after_pca = gradient_descent(X2_after_pca, Y2_after_pca, W_after_pca, alpha_after_pca, 100000)\n",
        "\n",
        "# New Values of\n",
        "print(new_weights_after_pca)\n",
        "\n",
        "# Final Cost of our Iterations.\n",
        "print(cost_history_after_pca[-1])"
      ]
    },
    {
      "cell_type": "code",
      "execution_count": 43,
      "metadata": {
        "colab": {
          "base_uri": "https://localhost:8080/",
          "height": 592
        },
        "id": "UrcovKvjl7nS",
        "outputId": "12fa87c7-0838-4df6-fe3a-fba0d2ed5f51"
      },
      "outputs": [
        {
          "data": {
            "image/png": "[encoded data removed]",
            "text/plain": [
              "<Figure size 1000x1000 with 1 Axes>"
            ]
          },
          "metadata": {},
          "output_type": "display_data"
        }
      ],
      "source": [
        "# visualizing cost function (gradient descent)\n",
        "plt.plot(np.array(range(100000)), cost_history_after_pca)\n",
        "plt.show()"
      ]
    },
    {
      "cell_type": "code",
      "execution_count": 44,
      "metadata": {
        "colab": {
          "base_uri": "https://localhost:8080/"
        },
        "id": "nAfQyQ-BlRBa",
        "outputId": "ff62fa04-f959-44dd-d1f2-ee5521894e84"
      },
      "outputs": [
        {
          "name": "stdout",
          "output_type": "stream",
          "text": [
            "Root Mean Square Error = 0.005221412757004432\n",
            "R-Squared = 0.999988724759158\n"
          ]
        }
      ],
      "source": [
        "Y_pred_after_pca = X2_after_pca.dot(new_weights_after_pca)\n",
        "\n",
        "print(\"Root Mean Square Error =\",rmse)\n",
        "print(\"R-Squared =\",r2)"
      ]
    },
    {
      "cell_type": "code",
      "execution_count": 45,
      "metadata": {
        "colab": {
          "base_uri": "https://localhost:8080/"
        },
        "id": "bDAgXUSSIfDq",
        "outputId": "7931da09-edc4-4dc6-843f-b1650a8198ac"
      },
      "outputs": [
        {
          "name": "stdout",
          "output_type": "stream",
          "text": [
            "0.1707833149685188\n",
            "0.9879374079978124\n"
          ]
        }
      ],
      "source": [
        "from sklearn.linear_model import LinearRegression\n",
        "from sklearn.metrics import mean_squared_error\n",
        "\n",
        "# X and Y Values\n",
        "X = np.array([NA,EU,JP,other]).T\n",
        "Y = np.array(globalSales)\n",
        "\n",
        "# Model Intialization\n",
        "reg = LinearRegression()\n",
        "# Data Fitting\n",
        "reg = reg.fit(X2_after_pca, Y2_after_pca)\n",
        "# Y Prediction\n",
        "Y_pred = reg.predict(X2_after_pca)\n",
        "\n",
        "# Model Evaluation\n",
        "rmse = np.sqrt(mean_squared_error(Y2_after_pca, Y_pred_after_pca))\n",
        "r2 = reg.score(X2_after_pca, Y2_after_pca)\n",
        "\n",
        "print(rmse)\n",
        "print(r2)"
      ]
    },
    {
      "cell_type": "code",
      "execution_count": 46,
      "metadata": {
        "id": "tGFClT5XKdkZ"
      },
      "outputs": [],
      "source": [
        "from sklearn.model_selection import train_test_split\n",
        "x_train_pca, x_test_pca, y_train_pca, y_test_pca = train_test_split(X2_after_pca, Y2_after_pca, test_size=0.33, random_state=42)"
      ]
    },
    {
      "cell_type": "code",
      "execution_count": 47,
      "metadata": {
        "colab": {
          "base_uri": "https://localhost:8080/"
        },
        "id": "AUKHxxqsK63r",
        "outputId": "e55bc03b-d589-4e2a-8477-5fa6135a948b"
      },
      "outputs": [
        {
          "name": "stdout",
          "output_type": "stream",
          "text": [
            "66.9960236173033% data is in the training set\n",
            "33.003976382696706% data is in the testing set\n"
          ]
        }
      ],
      "source": [
        "print(\"{}% data is in the training set\".format((len(x_train_pca)/len(df))*100))\n",
        "print(\"{}% data is in the testing set\".format((len(x_test_pca)/len(df))*100))"
      ]
    },
    {
      "cell_type": "markdown",
      "metadata": {
        "id": "lKNAJv3qQWkB"
      },
      "source": [
        "# 6. Conclusion"
      ]
    },
    {
      "cell_type": "markdown",
      "metadata": {
        "id": "mkKqq47vQkZw"
      },
      "source": [
        "Before performing PCA, the RMSE is 0.005221412757004434, while the R-Squared is\n",
        "0.999988724759158. After performing PCA, the RMSE is 0.1707833149685189, while the R-Squared is 0.9879374079978124."
      ]
    }
  ],
  "metadata": {
    "colab": {
      "provenance": []
    },
    "kernelspec": {
      "display_name": "Python 3",
      "name": "python3"
    },
    "language_info": {
      "codemirror_mode": {
        "name": "ipython",
        "version": 3
      },
      "file_extension": ".py",
      "mimetype": "text/x-python",
      "name": "python",
      "nbconvert_exporter": "python",
      "pygments_lexer": "ipython3",
      "version": "3.12.5"
    }
  },
  "nbformat": 4,
  "nbformat_minor": 0
}
